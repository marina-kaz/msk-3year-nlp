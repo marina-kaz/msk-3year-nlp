{
  "nbformat": 4,
  "nbformat_minor": 0,
  "metadata": {
    "colab": {
      "name": "Hometask_2_taggers_comparison",
      "provenance": []
    },
    "kernelspec": {
      "name": "python3",
      "display_name": "Python 3"
    },
    "language_info": {
      "name": "python"
    },
    "widgets": {
      "application/vnd.jupyter.widget-state+json": {
        "0181a458892948c1bb3333867d9f7d42": {
          "model_module": "@jupyter-widgets/controls",
          "model_name": "HBoxModel",
          "model_module_version": "1.5.0",
          "state": {
            "_view_name": "HBoxView",
            "_dom_classes": [],
            "_model_name": "HBoxModel",
            "_view_module": "@jupyter-widgets/controls",
            "_model_module_version": "1.5.0",
            "_view_count": null,
            "_view_module_version": "1.5.0",
            "box_style": "",
            "layout": "IPY_MODEL_4f0ed0078ccb4cf8b0a519ed97bea62c",
            "_model_module": "@jupyter-widgets/controls",
            "children": [
              "IPY_MODEL_3ed3b670b1aa432fa9194549a4b764b3",
              "IPY_MODEL_d1fe44e7371e424981ba8baf6e70df63",
              "IPY_MODEL_3b9bb3305898421fa401a9c019744f63"
            ]
          }
        },
        "4f0ed0078ccb4cf8b0a519ed97bea62c": {
          "model_module": "@jupyter-widgets/base",
          "model_name": "LayoutModel",
          "model_module_version": "1.2.0",
          "state": {
            "_view_name": "LayoutView",
            "grid_template_rows": null,
            "right": null,
            "justify_content": null,
            "_view_module": "@jupyter-widgets/base",
            "overflow": null,
            "_model_module_version": "1.2.0",
            "_view_count": null,
            "flex_flow": null,
            "width": null,
            "min_width": null,
            "border": null,
            "align_items": null,
            "bottom": null,
            "_model_module": "@jupyter-widgets/base",
            "top": null,
            "grid_column": null,
            "overflow_y": null,
            "overflow_x": null,
            "grid_auto_flow": null,
            "grid_area": null,
            "grid_template_columns": null,
            "flex": null,
            "_model_name": "LayoutModel",
            "justify_items": null,
            "grid_row": null,
            "max_height": null,
            "align_content": null,
            "visibility": null,
            "align_self": null,
            "height": null,
            "min_height": null,
            "padding": null,
            "grid_auto_rows": null,
            "grid_gap": null,
            "max_width": null,
            "order": null,
            "_view_module_version": "1.2.0",
            "grid_template_areas": null,
            "object_position": null,
            "object_fit": null,
            "grid_auto_columns": null,
            "margin": null,
            "display": null,
            "left": null
          }
        },
        "3ed3b670b1aa432fa9194549a4b764b3": {
          "model_module": "@jupyter-widgets/controls",
          "model_name": "HTMLModel",
          "model_module_version": "1.5.0",
          "state": {
            "_view_name": "HTMLView",
            "style": "IPY_MODEL_198b149dc63944f59b9f839d8b7c5ba1",
            "_dom_classes": [],
            "description": "",
            "_model_name": "HTMLModel",
            "placeholder": "​",
            "_view_module": "@jupyter-widgets/controls",
            "_model_module_version": "1.5.0",
            "value": "Downloading https://raw.githubusercontent.com/stanfordnlp/stanza-resources/main/resources_1.2.2.json: ",
            "_view_count": null,
            "_view_module_version": "1.5.0",
            "description_tooltip": null,
            "_model_module": "@jupyter-widgets/controls",
            "layout": "IPY_MODEL_6360489c360a4b28b0defc19ddd614a8"
          }
        },
        "d1fe44e7371e424981ba8baf6e70df63": {
          "model_module": "@jupyter-widgets/controls",
          "model_name": "FloatProgressModel",
          "model_module_version": "1.5.0",
          "state": {
            "_view_name": "ProgressView",
            "style": "IPY_MODEL_4ee8de026561476d9e9d895051ebd9fa",
            "_dom_classes": [],
            "description": "",
            "_model_name": "FloatProgressModel",
            "bar_style": "success",
            "max": 24144,
            "_view_module": "@jupyter-widgets/controls",
            "_model_module_version": "1.5.0",
            "value": 24144,
            "_view_count": null,
            "_view_module_version": "1.5.0",
            "orientation": "horizontal",
            "min": 0,
            "description_tooltip": null,
            "_model_module": "@jupyter-widgets/controls",
            "layout": "IPY_MODEL_75c66b0aa6ed4ba0beff8cc62659de5b"
          }
        },
        "3b9bb3305898421fa401a9c019744f63": {
          "model_module": "@jupyter-widgets/controls",
          "model_name": "HTMLModel",
          "model_module_version": "1.5.0",
          "state": {
            "_view_name": "HTMLView",
            "style": "IPY_MODEL_5bfd44cdf02b436985c1e6f3787bb6b5",
            "_dom_classes": [],
            "description": "",
            "_model_name": "HTMLModel",
            "placeholder": "​",
            "_view_module": "@jupyter-widgets/controls",
            "_model_module_version": "1.5.0",
            "value": " 140k/? [00:00&lt;00:00, 2.40MB/s]",
            "_view_count": null,
            "_view_module_version": "1.5.0",
            "description_tooltip": null,
            "_model_module": "@jupyter-widgets/controls",
            "layout": "IPY_MODEL_2d72b8747b894a69b6100905e1dfd77b"
          }
        },
        "198b149dc63944f59b9f839d8b7c5ba1": {
          "model_module": "@jupyter-widgets/controls",
          "model_name": "DescriptionStyleModel",
          "model_module_version": "1.5.0",
          "state": {
            "_view_name": "StyleView",
            "_model_name": "DescriptionStyleModel",
            "description_width": "",
            "_view_module": "@jupyter-widgets/base",
            "_model_module_version": "1.5.0",
            "_view_count": null,
            "_view_module_version": "1.2.0",
            "_model_module": "@jupyter-widgets/controls"
          }
        },
        "6360489c360a4b28b0defc19ddd614a8": {
          "model_module": "@jupyter-widgets/base",
          "model_name": "LayoutModel",
          "model_module_version": "1.2.0",
          "state": {
            "_view_name": "LayoutView",
            "grid_template_rows": null,
            "right": null,
            "justify_content": null,
            "_view_module": "@jupyter-widgets/base",
            "overflow": null,
            "_model_module_version": "1.2.0",
            "_view_count": null,
            "flex_flow": null,
            "width": null,
            "min_width": null,
            "border": null,
            "align_items": null,
            "bottom": null,
            "_model_module": "@jupyter-widgets/base",
            "top": null,
            "grid_column": null,
            "overflow_y": null,
            "overflow_x": null,
            "grid_auto_flow": null,
            "grid_area": null,
            "grid_template_columns": null,
            "flex": null,
            "_model_name": "LayoutModel",
            "justify_items": null,
            "grid_row": null,
            "max_height": null,
            "align_content": null,
            "visibility": null,
            "align_self": null,
            "height": null,
            "min_height": null,
            "padding": null,
            "grid_auto_rows": null,
            "grid_gap": null,
            "max_width": null,
            "order": null,
            "_view_module_version": "1.2.0",
            "grid_template_areas": null,
            "object_position": null,
            "object_fit": null,
            "grid_auto_columns": null,
            "margin": null,
            "display": null,
            "left": null
          }
        },
        "4ee8de026561476d9e9d895051ebd9fa": {
          "model_module": "@jupyter-widgets/controls",
          "model_name": "ProgressStyleModel",
          "model_module_version": "1.5.0",
          "state": {
            "_view_name": "StyleView",
            "_model_name": "ProgressStyleModel",
            "description_width": "",
            "_view_module": "@jupyter-widgets/base",
            "_model_module_version": "1.5.0",
            "_view_count": null,
            "_view_module_version": "1.2.0",
            "bar_color": null,
            "_model_module": "@jupyter-widgets/controls"
          }
        },
        "75c66b0aa6ed4ba0beff8cc62659de5b": {
          "model_module": "@jupyter-widgets/base",
          "model_name": "LayoutModel",
          "model_module_version": "1.2.0",
          "state": {
            "_view_name": "LayoutView",
            "grid_template_rows": null,
            "right": null,
            "justify_content": null,
            "_view_module": "@jupyter-widgets/base",
            "overflow": null,
            "_model_module_version": "1.2.0",
            "_view_count": null,
            "flex_flow": null,
            "width": null,
            "min_width": null,
            "border": null,
            "align_items": null,
            "bottom": null,
            "_model_module": "@jupyter-widgets/base",
            "top": null,
            "grid_column": null,
            "overflow_y": null,
            "overflow_x": null,
            "grid_auto_flow": null,
            "grid_area": null,
            "grid_template_columns": null,
            "flex": null,
            "_model_name": "LayoutModel",
            "justify_items": null,
            "grid_row": null,
            "max_height": null,
            "align_content": null,
            "visibility": null,
            "align_self": null,
            "height": null,
            "min_height": null,
            "padding": null,
            "grid_auto_rows": null,
            "grid_gap": null,
            "max_width": null,
            "order": null,
            "_view_module_version": "1.2.0",
            "grid_template_areas": null,
            "object_position": null,
            "object_fit": null,
            "grid_auto_columns": null,
            "margin": null,
            "display": null,
            "left": null
          }
        },
        "5bfd44cdf02b436985c1e6f3787bb6b5": {
          "model_module": "@jupyter-widgets/controls",
          "model_name": "DescriptionStyleModel",
          "model_module_version": "1.5.0",
          "state": {
            "_view_name": "StyleView",
            "_model_name": "DescriptionStyleModel",
            "description_width": "",
            "_view_module": "@jupyter-widgets/base",
            "_model_module_version": "1.5.0",
            "_view_count": null,
            "_view_module_version": "1.2.0",
            "_model_module": "@jupyter-widgets/controls"
          }
        },
        "2d72b8747b894a69b6100905e1dfd77b": {
          "model_module": "@jupyter-widgets/base",
          "model_name": "LayoutModel",
          "model_module_version": "1.2.0",
          "state": {
            "_view_name": "LayoutView",
            "grid_template_rows": null,
            "right": null,
            "justify_content": null,
            "_view_module": "@jupyter-widgets/base",
            "overflow": null,
            "_model_module_version": "1.2.0",
            "_view_count": null,
            "flex_flow": null,
            "width": null,
            "min_width": null,
            "border": null,
            "align_items": null,
            "bottom": null,
            "_model_module": "@jupyter-widgets/base",
            "top": null,
            "grid_column": null,
            "overflow_y": null,
            "overflow_x": null,
            "grid_auto_flow": null,
            "grid_area": null,
            "grid_template_columns": null,
            "flex": null,
            "_model_name": "LayoutModel",
            "justify_items": null,
            "grid_row": null,
            "max_height": null,
            "align_content": null,
            "visibility": null,
            "align_self": null,
            "height": null,
            "min_height": null,
            "padding": null,
            "grid_auto_rows": null,
            "grid_gap": null,
            "max_width": null,
            "order": null,
            "_view_module_version": "1.2.0",
            "grid_template_areas": null,
            "object_position": null,
            "object_fit": null,
            "grid_auto_columns": null,
            "margin": null,
            "display": null,
            "left": null
          }
        },
        "c2da40806a374e3ba9da9380752aae5f": {
          "model_module": "@jupyter-widgets/controls",
          "model_name": "HBoxModel",
          "model_module_version": "1.5.0",
          "state": {
            "_view_name": "HBoxView",
            "_dom_classes": [],
            "_model_name": "HBoxModel",
            "_view_module": "@jupyter-widgets/controls",
            "_model_module_version": "1.5.0",
            "_view_count": null,
            "_view_module_version": "1.5.0",
            "box_style": "",
            "layout": "IPY_MODEL_de0076d78f7c4333afe1fe45c75d73f8",
            "_model_module": "@jupyter-widgets/controls",
            "children": [
              "IPY_MODEL_737699b5481b49ab99d8f0895615c754",
              "IPY_MODEL_8f8fbe84eeba4c989b06d1164e73527c",
              "IPY_MODEL_070766a2011a4b969198d47945360661"
            ]
          }
        },
        "de0076d78f7c4333afe1fe45c75d73f8": {
          "model_module": "@jupyter-widgets/base",
          "model_name": "LayoutModel",
          "model_module_version": "1.2.0",
          "state": {
            "_view_name": "LayoutView",
            "grid_template_rows": null,
            "right": null,
            "justify_content": null,
            "_view_module": "@jupyter-widgets/base",
            "overflow": null,
            "_model_module_version": "1.2.0",
            "_view_count": null,
            "flex_flow": null,
            "width": null,
            "min_width": null,
            "border": null,
            "align_items": null,
            "bottom": null,
            "_model_module": "@jupyter-widgets/base",
            "top": null,
            "grid_column": null,
            "overflow_y": null,
            "overflow_x": null,
            "grid_auto_flow": null,
            "grid_area": null,
            "grid_template_columns": null,
            "flex": null,
            "_model_name": "LayoutModel",
            "justify_items": null,
            "grid_row": null,
            "max_height": null,
            "align_content": null,
            "visibility": null,
            "align_self": null,
            "height": null,
            "min_height": null,
            "padding": null,
            "grid_auto_rows": null,
            "grid_gap": null,
            "max_width": null,
            "order": null,
            "_view_module_version": "1.2.0",
            "grid_template_areas": null,
            "object_position": null,
            "object_fit": null,
            "grid_auto_columns": null,
            "margin": null,
            "display": null,
            "left": null
          }
        },
        "737699b5481b49ab99d8f0895615c754": {
          "model_module": "@jupyter-widgets/controls",
          "model_name": "HTMLModel",
          "model_module_version": "1.5.0",
          "state": {
            "_view_name": "HTMLView",
            "style": "IPY_MODEL_42473b45983242408801ea7ae4741ec8",
            "_dom_classes": [],
            "description": "",
            "_model_name": "HTMLModel",
            "placeholder": "​",
            "_view_module": "@jupyter-widgets/controls",
            "_model_module_version": "1.5.0",
            "value": "Downloading http://nlp.stanford.edu/software/stanza/1.2.2/ru/default.zip: 100%",
            "_view_count": null,
            "_view_module_version": "1.5.0",
            "description_tooltip": null,
            "_model_module": "@jupyter-widgets/controls",
            "layout": "IPY_MODEL_71abb2124dbc4a8eb6c43541ae3e0365"
          }
        },
        "8f8fbe84eeba4c989b06d1164e73527c": {
          "model_module": "@jupyter-widgets/controls",
          "model_name": "FloatProgressModel",
          "model_module_version": "1.5.0",
          "state": {
            "_view_name": "ProgressView",
            "style": "IPY_MODEL_5da199770bf04b16859cbc695b92198c",
            "_dom_classes": [],
            "description": "",
            "_model_name": "FloatProgressModel",
            "bar_style": "success",
            "max": 574066147,
            "_view_module": "@jupyter-widgets/controls",
            "_model_module_version": "1.5.0",
            "value": 574066147,
            "_view_count": null,
            "_view_module_version": "1.5.0",
            "orientation": "horizontal",
            "min": 0,
            "description_tooltip": null,
            "_model_module": "@jupyter-widgets/controls",
            "layout": "IPY_MODEL_8e297fc89fb746debb96f0a7307f5d2d"
          }
        },
        "070766a2011a4b969198d47945360661": {
          "model_module": "@jupyter-widgets/controls",
          "model_name": "HTMLModel",
          "model_module_version": "1.5.0",
          "state": {
            "_view_name": "HTMLView",
            "style": "IPY_MODEL_25e55af964b04e35b1f9f48f7b50b459",
            "_dom_classes": [],
            "description": "",
            "_model_name": "HTMLModel",
            "placeholder": "​",
            "_view_module": "@jupyter-widgets/controls",
            "_model_module_version": "1.5.0",
            "value": " 574M/574M [01:44&lt;00:00, 5.32MB/s]",
            "_view_count": null,
            "_view_module_version": "1.5.0",
            "description_tooltip": null,
            "_model_module": "@jupyter-widgets/controls",
            "layout": "IPY_MODEL_2d45147f00fd4945bcb3459829210e8c"
          }
        },
        "42473b45983242408801ea7ae4741ec8": {
          "model_module": "@jupyter-widgets/controls",
          "model_name": "DescriptionStyleModel",
          "model_module_version": "1.5.0",
          "state": {
            "_view_name": "StyleView",
            "_model_name": "DescriptionStyleModel",
            "description_width": "",
            "_view_module": "@jupyter-widgets/base",
            "_model_module_version": "1.5.0",
            "_view_count": null,
            "_view_module_version": "1.2.0",
            "_model_module": "@jupyter-widgets/controls"
          }
        },
        "71abb2124dbc4a8eb6c43541ae3e0365": {
          "model_module": "@jupyter-widgets/base",
          "model_name": "LayoutModel",
          "model_module_version": "1.2.0",
          "state": {
            "_view_name": "LayoutView",
            "grid_template_rows": null,
            "right": null,
            "justify_content": null,
            "_view_module": "@jupyter-widgets/base",
            "overflow": null,
            "_model_module_version": "1.2.0",
            "_view_count": null,
            "flex_flow": null,
            "width": null,
            "min_width": null,
            "border": null,
            "align_items": null,
            "bottom": null,
            "_model_module": "@jupyter-widgets/base",
            "top": null,
            "grid_column": null,
            "overflow_y": null,
            "overflow_x": null,
            "grid_auto_flow": null,
            "grid_area": null,
            "grid_template_columns": null,
            "flex": null,
            "_model_name": "LayoutModel",
            "justify_items": null,
            "grid_row": null,
            "max_height": null,
            "align_content": null,
            "visibility": null,
            "align_self": null,
            "height": null,
            "min_height": null,
            "padding": null,
            "grid_auto_rows": null,
            "grid_gap": null,
            "max_width": null,
            "order": null,
            "_view_module_version": "1.2.0",
            "grid_template_areas": null,
            "object_position": null,
            "object_fit": null,
            "grid_auto_columns": null,
            "margin": null,
            "display": null,
            "left": null
          }
        },
        "5da199770bf04b16859cbc695b92198c": {
          "model_module": "@jupyter-widgets/controls",
          "model_name": "ProgressStyleModel",
          "model_module_version": "1.5.0",
          "state": {
            "_view_name": "StyleView",
            "_model_name": "ProgressStyleModel",
            "description_width": "",
            "_view_module": "@jupyter-widgets/base",
            "_model_module_version": "1.5.0",
            "_view_count": null,
            "_view_module_version": "1.2.0",
            "bar_color": null,
            "_model_module": "@jupyter-widgets/controls"
          }
        },
        "8e297fc89fb746debb96f0a7307f5d2d": {
          "model_module": "@jupyter-widgets/base",
          "model_name": "LayoutModel",
          "model_module_version": "1.2.0",
          "state": {
            "_view_name": "LayoutView",
            "grid_template_rows": null,
            "right": null,
            "justify_content": null,
            "_view_module": "@jupyter-widgets/base",
            "overflow": null,
            "_model_module_version": "1.2.0",
            "_view_count": null,
            "flex_flow": null,
            "width": null,
            "min_width": null,
            "border": null,
            "align_items": null,
            "bottom": null,
            "_model_module": "@jupyter-widgets/base",
            "top": null,
            "grid_column": null,
            "overflow_y": null,
            "overflow_x": null,
            "grid_auto_flow": null,
            "grid_area": null,
            "grid_template_columns": null,
            "flex": null,
            "_model_name": "LayoutModel",
            "justify_items": null,
            "grid_row": null,
            "max_height": null,
            "align_content": null,
            "visibility": null,
            "align_self": null,
            "height": null,
            "min_height": null,
            "padding": null,
            "grid_auto_rows": null,
            "grid_gap": null,
            "max_width": null,
            "order": null,
            "_view_module_version": "1.2.0",
            "grid_template_areas": null,
            "object_position": null,
            "object_fit": null,
            "grid_auto_columns": null,
            "margin": null,
            "display": null,
            "left": null
          }
        },
        "25e55af964b04e35b1f9f48f7b50b459": {
          "model_module": "@jupyter-widgets/controls",
          "model_name": "DescriptionStyleModel",
          "model_module_version": "1.5.0",
          "state": {
            "_view_name": "StyleView",
            "_model_name": "DescriptionStyleModel",
            "description_width": "",
            "_view_module": "@jupyter-widgets/base",
            "_model_module_version": "1.5.0",
            "_view_count": null,
            "_view_module_version": "1.2.0",
            "_model_module": "@jupyter-widgets/controls"
          }
        },
        "2d45147f00fd4945bcb3459829210e8c": {
          "model_module": "@jupyter-widgets/base",
          "model_name": "LayoutModel",
          "model_module_version": "1.2.0",
          "state": {
            "_view_name": "LayoutView",
            "grid_template_rows": null,
            "right": null,
            "justify_content": null,
            "_view_module": "@jupyter-widgets/base",
            "overflow": null,
            "_model_module_version": "1.2.0",
            "_view_count": null,
            "flex_flow": null,
            "width": null,
            "min_width": null,
            "border": null,
            "align_items": null,
            "bottom": null,
            "_model_module": "@jupyter-widgets/base",
            "top": null,
            "grid_column": null,
            "overflow_y": null,
            "overflow_x": null,
            "grid_auto_flow": null,
            "grid_area": null,
            "grid_template_columns": null,
            "flex": null,
            "_model_name": "LayoutModel",
            "justify_items": null,
            "grid_row": null,
            "max_height": null,
            "align_content": null,
            "visibility": null,
            "align_self": null,
            "height": null,
            "min_height": null,
            "padding": null,
            "grid_auto_rows": null,
            "grid_gap": null,
            "max_width": null,
            "order": null,
            "_view_module_version": "1.2.0",
            "grid_template_areas": null,
            "object_position": null,
            "object_fit": null,
            "grid_auto_columns": null,
            "margin": null,
            "display": null,
            "left": null
          }
        }
      }
    }
  },
  "cells": [
    {
      "cell_type": "markdown",
      "metadata": {
        "id": "-Msl4iBW7xAQ"
      },
      "source": [
        "    (1 балл) Создание, разметка корпуса и объяснение того, почему этот текст подходит для оценки (какие моменты вы тут считаете трудными для автоматического посттеггинга и почему, в этом вам может помочь второй ридинг). Не забывайте, что разные теггеры могут использовать разные тегсеты: напишите комментарий о том, какой тегсет вы берёте для разметки и почему"
      ]
    },
    {
      "cell_type": "markdown",
      "metadata": {
        "id": "nR49jSlbwXX9"
      },
      "source": [
        "В данной домашней работе я обращаюсь к датасету неформальных текстовых сообщений из vk и телеграма, который был создан с моим участием. Описание идеи датасета и этапов его создания в том числе [здесь](http://www.dialog-21.ru/media/4917/babiias-kazyulinams.pdf).\n",
        "\n",
        "**!В этом датасете может содержаться обсценная лексика и другие табуированные слова!**\n",
        "\n",
        "Он содержит в себе сразу несколько потенциальных трудностей для автоматической частеречной разметки. Во-первых, конечно, систематические опечатки, что свойственно жанру интернет-коммуникации в целом. Во-вторых, определеная степень неграмотности. В разговорной форме письменной речи часто стираются какие-то чисто орфографические границы между разными классами e.g. путаются глаголы разных видов из-за омонимичных окончаний -тся/-ться. В-третьих, большое количество слов, которых нет в словаре: это и какие-то сленгизмы, и окказионализмы, и - в большой степени - русификация английских слов (e.g. фак). Наконец, в этом датасете также зафиксировано много оригинальных междометий, к которым относятся сразу несколько вариантов обозначения смеха.\n",
        "\n",
        "Иными словами, тут действительно есть много специфичного материала, который возможно правильно обработать исключительно при дополнительном обучении на соответствующем дискурсе. "
      ]
    },
    {
      "cell_type": "code",
      "metadata": {
        "id": "3erMZy1i5EdK"
      },
      "source": [
        "import pandas as pd\n",
        "import numpy as np "
      ],
      "execution_count": 2,
      "outputs": []
    },
    {
      "cell_type": "code",
      "metadata": {
        "colab": {
          "base_uri": "https://localhost:8080/",
          "height": 206
        },
        "id": "nK2aQXzw8CEd",
        "outputId": "7754f453-80d5-44e3-e3ca-7a296a683f8d"
      },
      "source": [
        "df = pd.read_csv('/content/drive/MyDrive/data/validation.csv')\n",
        "df.head()"
      ],
      "execution_count": 3,
      "outputs": [
        {
          "output_type": "execute_result",
          "data": {
            "text/html": [
              "<div>\n",
              "<style scoped>\n",
              "    .dataframe tbody tr th:only-of-type {\n",
              "        vertical-align: middle;\n",
              "    }\n",
              "\n",
              "    .dataframe tbody tr th {\n",
              "        vertical-align: top;\n",
              "    }\n",
              "\n",
              "    .dataframe thead th {\n",
              "        text-align: right;\n",
              "    }\n",
              "</style>\n",
              "<table border=\"1\" class=\"dataframe\">\n",
              "  <thead>\n",
              "    <tr style=\"text-align: right;\">\n",
              "      <th></th>\n",
              "      <th>message</th>\n",
              "      <th>labels</th>\n",
              "      <th>nm_message</th>\n",
              "    </tr>\n",
              "  </thead>\n",
              "  <tbody>\n",
              "    <tr>\n",
              "      <th>0</th>\n",
              "      <td>влад спасибо ещё раз</td>\n",
              "      <td>0</td>\n",
              "      <td>влад спасибо еще раз</td>\n",
              "    </tr>\n",
              "    <tr>\n",
              "      <th>1</th>\n",
              "      <td>а ты хоть бы привет сказал</td>\n",
              "      <td>1</td>\n",
              "      <td>а ты хоть бы привет сказал</td>\n",
              "    </tr>\n",
              "    <tr>\n",
              "      <th>2</th>\n",
              "      <td>аааааа что за милота</td>\n",
              "      <td>0</td>\n",
              "      <td>а что за милота</td>\n",
              "    </tr>\n",
              "    <tr>\n",
              "      <th>3</th>\n",
              "      <td>что если веганы захват всю зелень земли?</td>\n",
              "      <td>3</td>\n",
              "      <td>что если веганы захват всю зелень земли?</td>\n",
              "    </tr>\n",
              "    <tr>\n",
              "      <th>4</th>\n",
              "      <td>Не смогли бы записаться и уйти</td>\n",
              "      <td>4</td>\n",
              "      <td>не смогли бы записаться и уйти</td>\n",
              "    </tr>\n",
              "  </tbody>\n",
              "</table>\n",
              "</div>"
            ],
            "text/plain": [
              "                                    message  ...                                nm_message\n",
              "0                     влад спасибо ещё раз   ...                      влад спасибо еще раз\n",
              "1                а ты хоть бы привет сказал  ...                а ты хоть бы привет сказал\n",
              "2                      аааааа что за милота  ...                           а что за милота\n",
              "3  что если веганы захват всю зелень земли?  ...  что если веганы захват всю зелень земли?\n",
              "4            Не смогли бы записаться и уйти  ...            не смогли бы записаться и уйти\n",
              "\n",
              "[5 rows x 3 columns]"
            ]
          },
          "metadata": {},
          "execution_count": 3
        }
      ]
    },
    {
      "cell_type": "markdown",
      "metadata": {
        "id": "PjdyoiICzfE8"
      },
      "source": [
        "В датасете все тексты уже прошли некоторую предобработку (детали в статье).\n",
        "\n",
        "Однако некоторые знаки препинания еще присутствуют, поскольку датасет создавался для задачи определения эмоции в тексте. Нам же они не нужны. "
      ]
    },
    {
      "cell_type": "code",
      "metadata": {
        "id": "2DwRhTgC9iqJ"
      },
      "source": [
        "def delete_punctuation(text):\n",
        "    return ''.join([letter for letter in text \n",
        "                    if letter.isalpha() or letter.isspace()])\n",
        "texts = df.nm_message.apply(delete_punctuation).values"
      ],
      "execution_count": 4,
      "outputs": []
    },
    {
      "cell_type": "code",
      "metadata": {
        "colab": {
          "base_uri": "https://localhost:8080/"
        },
        "id": "MMu8geI0K8pu",
        "outputId": "d1f3b952-4813-46c9-8a98-628b92b44d22"
      },
      "source": [
        "print(*texts[:5], sep='\\n')"
      ],
      "execution_count": 5,
      "outputs": [
        {
          "output_type": "stream",
          "name": "stdout",
          "text": [
            "влад спасибо еще раз\n",
            "а ты хоть бы привет сказал\n",
            "а что за милота\n",
            "что если веганы захват всю зелень земли\n",
            "не смогли бы записаться и уйти\n"
          ]
        }
      ]
    },
    {
      "cell_type": "code",
      "metadata": {
        "id": "Lqu3EM4-LZ_R"
      },
      "source": [
        "tokens = []\n",
        "for text in texts:\n",
        "    for word in text.split():\n",
        "        tokens.append(word)\n",
        "tokens = set(tokens)"
      ],
      "execution_count": 6,
      "outputs": []
    },
    {
      "cell_type": "code",
      "metadata": {
        "colab": {
          "base_uri": "https://localhost:8080/"
        },
        "id": "wRtyqCAk98T0",
        "outputId": "c618b583-55ff-42fe-f304-8be8d5efcb43"
      },
      "source": [
        "from random import sample\n",
        "print(*sample(tokens, 15))"
      ],
      "execution_count": 7,
      "outputs": [
        {
          "output_type": "stream",
          "name": "stdout",
          "text": [
            "скучаю их услвшать конца блятб туда вам глаз спрашивала уходил автаза lp биология глазкова красным\n"
          ]
        }
      ]
    },
    {
      "cell_type": "code",
      "metadata": {
        "colab": {
          "base_uri": "https://localhost:8080/"
        },
        "id": "qxyTFVYJ0G_z",
        "outputId": "070a3041-43c7-4f0d-8b44-bfe6e5f28726"
      },
      "source": [
        "len(tokens)"
      ],
      "execution_count": 29,
      "outputs": [
        {
          "output_type": "execute_result",
          "data": {
            "text/plain": [
              "591"
            ]
          },
          "metadata": {},
          "execution_count": 29
        }
      ]
    },
    {
      "cell_type": "markdown",
      "metadata": {
        "id": "fuO_MoJz0GVD"
      },
      "source": [
        "Я сейчас не располагаю ресурсами для разметки сразу столького, поэтому возьмем половинку"
      ]
    },
    {
      "cell_type": "code",
      "metadata": {
        "id": "OxfIyZyfM4EX"
      },
      "source": [
        "golden_standard = sample(tokens, len(tokens)//2)\n",
        "with open('to_annotate.txt', 'w', encoding='utf-8') as file:\n",
        "    for token in golden_standard:\n",
        "        file.write(token + '\\n')"
      ],
      "execution_count": 8,
      "outputs": []
    },
    {
      "cell_type": "markdown",
      "metadata": {
        "id": "b4OOgKpO0gxq"
      },
      "source": [
        "В данной домашке для ручной разметки мною был выбран набор тэгов, используемых в [UD](http://www.dialog-21.ru/media/4917/babiias-kazyulinams.pdf).\n",
        "Во-первых, эта классификация представилась мне достаточно простой, чтобы сократить количество каких-то трудноразрешимых спорных случаев, коих в выбранном мною дискурсе очень и очень много. При этом этот набор вполне функционален и позволяет описать текст достаточно подробно. Наконец, этот же набор используется во многих state-of-the-art тэггерах, что может упростить дальнейшную работу. "
      ]
    },
    {
      "cell_type": "code",
      "metadata": {
        "id": "0ioAfuoPmEg-"
      },
      "source": [
        "with open('annotated.txt', encoding='utf-8') as file:\n",
        "    golden = list(map(lambda x: x.split('\\t')[1], \n",
        "                      file.read().split('\\n')))"
      ],
      "execution_count": 9,
      "outputs": []
    },
    {
      "cell_type": "code",
      "metadata": {
        "colab": {
          "base_uri": "https://localhost:8080/"
        },
        "id": "hM0YObkJ0Xcq",
        "outputId": "751d6ad0-45e3-4354-b52f-9026bc3d8b73"
      },
      "source": [
        "print(*golden[:5])"
      ],
      "execution_count": 30,
      "outputs": [
        {
          "output_type": "stream",
          "name": "stdout",
          "text": [
            "ADJ ADJ VERB NOUN PRON\n"
          ]
        }
      ]
    },
    {
      "cell_type": "markdown",
      "metadata": {
        "id": "jFwEs7Qt1Xuz"
      },
      "source": [
        "Некоторые решения, принятые мною во время разметки:\n",
        "* к числительным отношу только настоящие числительные, а местоимения-числительные (несколько, сколько etc.) отношу к местоимениям\n",
        "* местоимения-наречия отношу к наречиям (почему, зачем, тут etc.)\n",
        "* смех в любом его письменном выражении - междометие\n",
        "* слова этикета - тоже междометия (е.g. привет)\n",
        "* русская запись английских слов имеют ту частеречную характеристику, какую имело это слово в англйиском (энд - cconj, фак - intj)\n",
        "* причастия - это скорее прилагательные, чем глаголы (e.g. нарисованный)\n"
      ]
    },
    {
      "cell_type": "markdown",
      "metadata": {
        "id": "di44_yjR21Tb"
      },
      "source": [
        "    Потом вам будет нужно взять три POS теггера для русского языка (udpipe, stanza, natasha, pymorphy, mystem, spacy, deeppavlov) и «прогнать» текст через каждый из них. (2 балла)"
      ]
    },
    {
      "cell_type": "markdown",
      "metadata": {
        "id": "UE__u3HYTI21"
      },
      "source": [
        "### deep pavlov"
      ]
    },
    {
      "cell_type": "code",
      "metadata": {
        "id": "ZmUeO_cs-Nis"
      },
      "source": [
        "! pip install deeppavlov -q\n",
        "! python -m deeppavlov install morpho_ru_syntagrus_pymorphy\n",
        "! set \"KERAS_BACKEND=tensorflow\""
      ],
      "execution_count": null,
      "outputs": []
    },
    {
      "cell_type": "code",
      "metadata": {
        "id": "fysC8tMnFa_q"
      },
      "source": [
        "from deeppavlov import build_model, configs\n",
        "model_dp = build_model(configs.morpho_tagger.UD2_0.morpho_ru_syntagrus_pymorphy, \n",
        "                       download=True)"
      ],
      "execution_count": null,
      "outputs": []
    },
    {
      "cell_type": "code",
      "metadata": {
        "id": "sGlz4PWyOREe"
      },
      "source": [
        "dp_take = [word.split('\\t')[2] for word in model_dp(golden_standard)]"
      ],
      "execution_count": 14,
      "outputs": []
    },
    {
      "cell_type": "markdown",
      "metadata": {
        "id": "EvZWeV-8TLWT"
      },
      "source": [
        "### stanza"
      ]
    },
    {
      "cell_type": "code",
      "metadata": {
        "colab": {
          "base_uri": "https://localhost:8080/"
        },
        "id": "oFpxkbkoN28u",
        "outputId": "f06009ce-e3a5-4c9d-96dc-1a06b30abcd9"
      },
      "source": [
        "! pip install stanza -q"
      ],
      "execution_count": 15,
      "outputs": [
        {
          "output_type": "stream",
          "name": "stdout",
          "text": [
            "\u001b[?25l\r\u001b[K     |█                               | 10 kB 23.8 MB/s eta 0:00:01\r\u001b[K     |██                              | 20 kB 29.4 MB/s eta 0:00:01\r\u001b[K     |██▉                             | 30 kB 31.6 MB/s eta 0:00:01\r\u001b[K     |███▉                            | 40 kB 33.9 MB/s eta 0:00:01\r\u001b[K     |████▉                           | 51 kB 25.6 MB/s eta 0:00:01\r\u001b[K     |█████▊                          | 61 kB 24.7 MB/s eta 0:00:01\r\u001b[K     |██████▊                         | 71 kB 25.1 MB/s eta 0:00:01\r\u001b[K     |███████▋                        | 81 kB 26.9 MB/s eta 0:00:01\r\u001b[K     |████████▋                       | 92 kB 27.3 MB/s eta 0:00:01\r\u001b[K     |█████████▋                      | 102 kB 26.2 MB/s eta 0:00:01\r\u001b[K     |██████████▌                     | 112 kB 26.2 MB/s eta 0:00:01\r\u001b[K     |███████████▌                    | 122 kB 26.2 MB/s eta 0:00:01\r\u001b[K     |████████████▌                   | 133 kB 26.2 MB/s eta 0:00:01\r\u001b[K     |█████████████▍                  | 143 kB 26.2 MB/s eta 0:00:01\r\u001b[K     |██████████████▍                 | 153 kB 26.2 MB/s eta 0:00:01\r\u001b[K     |███████████████▎                | 163 kB 26.2 MB/s eta 0:00:01\r\u001b[K     |████████████████▎               | 174 kB 26.2 MB/s eta 0:00:01\r\u001b[K     |█████████████████▎              | 184 kB 26.2 MB/s eta 0:00:01\r\u001b[K     |██████████████████▏             | 194 kB 26.2 MB/s eta 0:00:01\r\u001b[K     |███████████████████▏            | 204 kB 26.2 MB/s eta 0:00:01\r\u001b[K     |████████████████████▏           | 215 kB 26.2 MB/s eta 0:00:01\r\u001b[K     |█████████████████████           | 225 kB 26.2 MB/s eta 0:00:01\r\u001b[K     |██████████████████████          | 235 kB 26.2 MB/s eta 0:00:01\r\u001b[K     |███████████████████████         | 245 kB 26.2 MB/s eta 0:00:01\r\u001b[K     |████████████████████████        | 256 kB 26.2 MB/s eta 0:00:01\r\u001b[K     |█████████████████████████       | 266 kB 26.2 MB/s eta 0:00:01\r\u001b[K     |█████████████████████████▉      | 276 kB 26.2 MB/s eta 0:00:01\r\u001b[K     |██████████████████████████▉     | 286 kB 26.2 MB/s eta 0:00:01\r\u001b[K     |███████████████████████████▊    | 296 kB 26.2 MB/s eta 0:00:01\r\u001b[K     |████████████████████████████▊   | 307 kB 26.2 MB/s eta 0:00:01\r\u001b[K     |█████████████████████████████▊  | 317 kB 26.2 MB/s eta 0:00:01\r\u001b[K     |██████████████████████████████▋ | 327 kB 26.2 MB/s eta 0:00:01\r\u001b[K     |███████████████████████████████▋| 337 kB 26.2 MB/s eta 0:00:01\r\u001b[K     |████████████████████████████████| 342 kB 26.2 MB/s \n",
            "\u001b[?25h"
          ]
        }
      ]
    },
    {
      "cell_type": "code",
      "metadata": {
        "colab": {
          "base_uri": "https://localhost:8080/",
          "height": 170,
          "referenced_widgets": [
            "0181a458892948c1bb3333867d9f7d42",
            "4f0ed0078ccb4cf8b0a519ed97bea62c",
            "3ed3b670b1aa432fa9194549a4b764b3",
            "d1fe44e7371e424981ba8baf6e70df63",
            "3b9bb3305898421fa401a9c019744f63",
            "198b149dc63944f59b9f839d8b7c5ba1",
            "6360489c360a4b28b0defc19ddd614a8",
            "4ee8de026561476d9e9d895051ebd9fa",
            "75c66b0aa6ed4ba0beff8cc62659de5b",
            "5bfd44cdf02b436985c1e6f3787bb6b5",
            "2d72b8747b894a69b6100905e1dfd77b",
            "c2da40806a374e3ba9da9380752aae5f",
            "de0076d78f7c4333afe1fe45c75d73f8",
            "737699b5481b49ab99d8f0895615c754",
            "8f8fbe84eeba4c989b06d1164e73527c",
            "070766a2011a4b969198d47945360661",
            "42473b45983242408801ea7ae4741ec8",
            "71abb2124dbc4a8eb6c43541ae3e0365",
            "5da199770bf04b16859cbc695b92198c",
            "8e297fc89fb746debb96f0a7307f5d2d",
            "25e55af964b04e35b1f9f48f7b50b459",
            "2d45147f00fd4945bcb3459829210e8c"
          ]
        },
        "id": "2kPQvJaBPD3e",
        "outputId": "04a05f92-3972-48b4-a85b-0cf2704c61c5"
      },
      "source": [
        "import stanza\n",
        "\n",
        "stanza.download('ru')\n",
        "model_sz = stanza.Pipeline('ru', verbose=False)"
      ],
      "execution_count": 16,
      "outputs": [
        {
          "output_type": "stream",
          "name": "stderr",
          "text": [
            "/usr/local/lib/python3.7/dist-packages/cryptography/hazmat/backends/openssl/x509.py:18: CryptographyDeprecationWarning: This version of cryptography contains a temporary pyOpenSSL fallback path. Upgrade pyOpenSSL now.\n",
            "  utils.DeprecatedIn35,\n"
          ]
        },
        {
          "output_type": "display_data",
          "data": {
            "application/vnd.jupyter.widget-view+json": {
              "model_id": "0181a458892948c1bb3333867d9f7d42",
              "version_minor": 0,
              "version_major": 2
            },
            "text/plain": [
              "Downloading https://raw.githubusercontent.com/stanfordnlp/stanza-resources/main/resources_1.2.2.json:   0%|   …"
            ]
          },
          "metadata": {}
        },
        {
          "output_type": "stream",
          "name": "stderr",
          "text": [
            "2021-10-03 10:34:19 INFO: Downloading default packages for language: ru (Russian)...\n"
          ]
        },
        {
          "output_type": "display_data",
          "data": {
            "application/vnd.jupyter.widget-view+json": {
              "model_id": "c2da40806a374e3ba9da9380752aae5f",
              "version_minor": 0,
              "version_major": 2
            },
            "text/plain": [
              "Downloading http://nlp.stanford.edu/software/stanza/1.2.2/ru/default.zip:   0%|          | 0.00/574M [00:00<?,…"
            ]
          },
          "metadata": {}
        },
        {
          "output_type": "stream",
          "name": "stderr",
          "text": [
            "2021-10-03 10:36:13 INFO: Finished downloading models and saved to /root/stanza_resources.\n"
          ]
        }
      ]
    },
    {
      "cell_type": "code",
      "metadata": {
        "colab": {
          "base_uri": "https://localhost:8080/"
        },
        "id": "lPrSyFB_Rg-1",
        "outputId": "08bae786-704c-4c12-a0ea-9a213d82306d"
      },
      "source": [
        "%%time\n",
        "\n",
        "sz_take = [model_sz(word).sentences[0].words[0].pos \n",
        "           for word in golden_standard]"
      ],
      "execution_count": 17,
      "outputs": [
        {
          "output_type": "stream",
          "name": "stdout",
          "text": [
            "CPU times: user 20.4 s, sys: 3.85 ms, total: 20.4 s\n",
            "Wall time: 20.7 s\n"
          ]
        }
      ]
    },
    {
      "cell_type": "markdown",
      "metadata": {
        "id": "OH2sEBuMTNkE"
      },
      "source": [
        "### spacy"
      ]
    },
    {
      "cell_type": "code",
      "metadata": {
        "colab": {
          "base_uri": "https://localhost:8080/"
        },
        "id": "TnCq8o6JTPHG",
        "outputId": "85084caf-916c-41fa-a80a-7fa015fa7603"
      },
      "source": [
        "! pip install spacy==3.0.0 -q\n",
        "! python -m spacy download ru_core_news_sm -q"
      ],
      "execution_count": 18,
      "outputs": [
        {
          "output_type": "stream",
          "name": "stdout",
          "text": [
            "\u001b[K     |████████████████████████████████| 12.7 MB 223 kB/s \n",
            "\u001b[K     |████████████████████████████████| 42 kB 1.4 MB/s \n",
            "\u001b[K     |████████████████████████████████| 9.1 MB 43.3 MB/s \n",
            "\u001b[K     |████████████████████████████████| 623 kB 51.9 MB/s \n",
            "\u001b[K     |████████████████████████████████| 456 kB 66.2 MB/s \n",
            "\u001b[31mERROR: pip's dependency resolver does not currently take into account all the packages that are installed. This behaviour is the source of the following dependency conflicts.\n",
            "deeppavlov 0.17.1 requires pydantic==1.3, but you have pydantic 1.7.4 which is incompatible.\u001b[0m\n",
            "\u001b[?25h/usr/local/lib/python3.7/dist-packages/cryptography/hazmat/backends/openssl/x509.py:18: CryptographyDeprecationWarning: This version of cryptography contains a temporary pyOpenSSL fallback path. Upgrade pyOpenSSL now.\n",
            "  utils.DeprecatedIn35,\n",
            "\u001b[K     |████████████████████████████████| 17.9 MB 167 kB/s \n",
            "\u001b[K     |████████████████████████████████| 55 kB 3.5 MB/s \n",
            "\u001b[31mERROR: pip's dependency resolver does not currently take into account all the packages that are installed. This behaviour is the source of the following dependency conflicts.\n",
            "deeppavlov 0.17.1 requires pydantic==1.3, but you have pydantic 1.7.4 which is incompatible.\n",
            "deeppavlov 0.17.1 requires pymorphy2==0.8, but you have pymorphy2 0.9.1 which is incompatible.\u001b[0m\n",
            "\u001b[?25h\u001b[38;5;2m✔ Download and installation successful\u001b[0m\n",
            "You can now load the package via spacy.load('ru_core_news_sm')\n"
          ]
        }
      ]
    },
    {
      "cell_type": "code",
      "metadata": {
        "id": "17HEnbD3TrSc"
      },
      "source": [
        "import spacy\n",
        "model_sc = spacy.load('ru_core_news_sm')"
      ],
      "execution_count": 19,
      "outputs": []
    },
    {
      "cell_type": "code",
      "metadata": {
        "colab": {
          "base_uri": "https://localhost:8080/"
        },
        "id": "_Xc1prbbTwaz",
        "outputId": "a7b348aa-09a7-4597-bdd9-3a0bcbbe6a09"
      },
      "source": [
        "%%time\n",
        "\n",
        "sc_take = list(map(lambda x: model_sc(x)[0].pos_, golden_standard))"
      ],
      "execution_count": 20,
      "outputs": [
        {
          "output_type": "stream",
          "name": "stdout",
          "text": [
            "CPU times: user 1.82 s, sys: 6.86 ms, total: 1.83 s\n",
            "Wall time: 1.83 s\n"
          ]
        }
      ]
    },
    {
      "cell_type": "markdown",
      "metadata": {
        "id": "F_W0A9mZ3efV"
      },
      "source": [
        "    Затем оценим accuracy для каждого теггера. Заметьте, что в разных системах имена тегов и части речи могут отличаться, – вам надо будет свести это всё к единому стандарту с помощью какой-то функции-конвертера и сравнить с вашим размеченным руками эталоном - тоже с помощью какого-то кода или функции. (2 балла) "
      ]
    },
    {
      "cell_type": "code",
      "metadata": {
        "colab": {
          "base_uri": "https://localhost:8080/",
          "height": 363
        },
        "id": "AFDi1g5-U9tS",
        "outputId": "8ba0936d-fa99-4898-96e3-47c33867dcc0"
      },
      "source": [
        "results = pd.DataFrame({\n",
        "                        'token': golden_standard,\n",
        "                        'deeppavlov': dp_take,\n",
        "                        'stanza': sz_take,\n",
        "                        'spaCy': sc_take,\n",
        "                        'golden': golden\n",
        "                        })\n",
        "\n",
        "results.head(10)"
      ],
      "execution_count": 21,
      "outputs": [
        {
          "output_type": "execute_result",
          "data": {
            "text/html": [
              "<div>\n",
              "<style scoped>\n",
              "    .dataframe tbody tr th:only-of-type {\n",
              "        vertical-align: middle;\n",
              "    }\n",
              "\n",
              "    .dataframe tbody tr th {\n",
              "        vertical-align: top;\n",
              "    }\n",
              "\n",
              "    .dataframe thead th {\n",
              "        text-align: right;\n",
              "    }\n",
              "</style>\n",
              "<table border=\"1\" class=\"dataframe\">\n",
              "  <thead>\n",
              "    <tr style=\"text-align: right;\">\n",
              "      <th></th>\n",
              "      <th>token</th>\n",
              "      <th>deeppavlov</th>\n",
              "      <th>stanza</th>\n",
              "      <th>spaCy</th>\n",
              "      <th>golden</th>\n",
              "    </tr>\n",
              "  </thead>\n",
              "  <tbody>\n",
              "    <tr>\n",
              "      <th>0</th>\n",
              "      <td>уместнее</td>\n",
              "      <td>ADV</td>\n",
              "      <td>ADJ</td>\n",
              "      <td>ADV</td>\n",
              "      <td>ADJ</td>\n",
              "    </tr>\n",
              "    <tr>\n",
              "      <th>1</th>\n",
              "      <td>злой</td>\n",
              "      <td>ADJ</td>\n",
              "      <td>ADJ</td>\n",
              "      <td>ADJ</td>\n",
              "      <td>ADJ</td>\n",
              "    </tr>\n",
              "    <tr>\n",
              "      <th>2</th>\n",
              "      <td>скажи</td>\n",
              "      <td>VERB</td>\n",
              "      <td>VERB</td>\n",
              "      <td>VERB</td>\n",
              "      <td>VERB</td>\n",
              "    </tr>\n",
              "    <tr>\n",
              "      <th>3</th>\n",
              "      <td>сходку</td>\n",
              "      <td>NOUN</td>\n",
              "      <td>NOUN</td>\n",
              "      <td>NOUN</td>\n",
              "      <td>NOUN</td>\n",
              "    </tr>\n",
              "    <tr>\n",
              "      <th>4</th>\n",
              "      <td>моей</td>\n",
              "      <td>DET</td>\n",
              "      <td>DET</td>\n",
              "      <td>DET</td>\n",
              "      <td>PRON</td>\n",
              "    </tr>\n",
              "    <tr>\n",
              "      <th>5</th>\n",
              "      <td>шарю</td>\n",
              "      <td>VERB</td>\n",
              "      <td>NOUN</td>\n",
              "      <td>NOUN</td>\n",
              "      <td>VERB</td>\n",
              "    </tr>\n",
              "    <tr>\n",
              "      <th>6</th>\n",
              "      <td>нету</td>\n",
              "      <td>VERB</td>\n",
              "      <td>VERB</td>\n",
              "      <td>VERB</td>\n",
              "      <td>X</td>\n",
              "    </tr>\n",
              "    <tr>\n",
              "      <th>7</th>\n",
              "      <td>обществе</td>\n",
              "      <td>NOUN</td>\n",
              "      <td>NOUN</td>\n",
              "      <td>NOUN</td>\n",
              "      <td>NOUN</td>\n",
              "    </tr>\n",
              "    <tr>\n",
              "      <th>8</th>\n",
              "      <td>два</td>\n",
              "      <td>NUM</td>\n",
              "      <td>NUM</td>\n",
              "      <td>NUM</td>\n",
              "      <td>NUM</td>\n",
              "    </tr>\n",
              "    <tr>\n",
              "      <th>9</th>\n",
              "      <td>педофил</td>\n",
              "      <td>NOUN</td>\n",
              "      <td>NOUN</td>\n",
              "      <td>NOUN</td>\n",
              "      <td>NOUN</td>\n",
              "    </tr>\n",
              "  </tbody>\n",
              "</table>\n",
              "</div>"
            ],
            "text/plain": [
              "      token deeppavlov stanza spaCy golden\n",
              "0  уместнее        ADV    ADJ   ADV    ADJ\n",
              "1      злой        ADJ    ADJ   ADJ    ADJ\n",
              "2     скажи       VERB   VERB  VERB   VERB\n",
              "3    сходку       NOUN   NOUN  NOUN   NOUN\n",
              "4      моей        DET    DET   DET   PRON\n",
              "5      шарю       VERB   NOUN  NOUN   VERB\n",
              "6      нету       VERB   VERB  VERB      X\n",
              "7  обществе       NOUN   NOUN  NOUN   NOUN\n",
              "8       два        NUM    NUM   NUM    NUM\n",
              "9   педофил       NOUN   NOUN  NOUN   NOUN"
            ]
          },
          "metadata": {},
          "execution_count": 21
        }
      ]
    },
    {
      "cell_type": "markdown",
      "metadata": {
        "id": "dT52SjY73ibQ"
      },
      "source": [
        "Мне повезло, что все интересные мне тэггеры используют систему тэгов UD. Поэтому мэтчить можем уже сейчас прямо так. \n",
        "\n",
        "Если бы я все-таки столкнулась с проблемой различных тэгов, то алгоритм решения этого вопроса был бы следующим:\n",
        "\n",
        "* ручками посмотреть на наборы тэгов, решить, что в них равнозначно\n",
        "* на основе проделанной аналитической работы сделать словарь в котором ключами были бы тэги, которые мы хотим использовать, а значениями - контейнеры с теми тэгами, которые используются вместо соответствующих желаемых\n",
        "* итеративно пройти по оценкам тэггера с неугодной классификацией, и заменить каждый из его тэгов на тот под ключом которого находится контейнер содержащий в себе его\n",
        "\n",
        "Сложность такого решения будет примерно (количество оценок) * (количество тэгов)\n"
      ]
    },
    {
      "cell_type": "code",
      "metadata": {
        "colab": {
          "base_uri": "https://localhost:8080/"
        },
        "id": "shu57eugvZO9",
        "outputId": "5625d7cb-6c16-4e7d-a503-87017aa325ab"
      },
      "source": [
        "print(f\"Deeppavlov's accuracy amounts to\\\n",
        " {sum(results.deeppavlov == golden) / results.shape[0]}\")\n",
        "\n",
        "\n",
        "print(f\"\\nStanza's accuracy amounts to\\\n",
        " {sum(results.stanza == golden) / results.shape[0]}\")\n",
        "\n",
        "\n",
        "print(f\"\\nSpacy's accuracy amounts to\\\n",
        " {sum(results.spaCy == golden) / results.shape[0]}\")\n"
      ],
      "execution_count": 28,
      "outputs": [
        {
          "output_type": "stream",
          "name": "stdout",
          "text": [
            "Deeppavlov's accuracy amounts to 0.8135593220338984\n",
            "\n",
            "Stanza's accuracy amounts to 0.8169491525423729\n",
            "\n",
            "Spacy's accuracy amounts to 0.7627118644067796\n"
          ]
        }
      ]
    },
    {
      "cell_type": "markdown",
      "metadata": {
        "id": "kVBdT2Tw3FWu"
      },
      "source": [
        "Иии у нас есть победитель: Stanza! Хотя ее отрыв от глубокого павлова совсем игрушечный. "
      ]
    },
    {
      "cell_type": "markdown",
      "metadata": {
        "id": "Bt1DPrts3-5B"
      },
      "source": [
        "    Дальше вам нужно взять лучший теггер для русского языка и с его помощью написать функцию (chunker), которая выделяет из размеченного текста 3 типа n-грамм, соответствующих какому-то шаблону (к примеру не + какая-то часть речи или NP или сущ.+ наречие и тд) (2-3 балла) "
      ]
    },
    {
      "cell_type": "markdown",
      "metadata": {
        "id": "2SYzVLxHJtBB"
      },
      "source": [
        "Мне показалось не очень интересным делать функции, которые способны к выделению какого-то одного паттерна. Вместо этого я попыталась сделать что-то более абстрактное, что способно принимать широкий спектр паттернов и работать с ними соответственно."
      ]
    },
    {
      "cell_type": "markdown",
      "metadata": {
        "id": "vx_WPb0rJiGR"
      },
      "source": [
        "Некоторые вспомогательные функции "
      ]
    },
    {
      "cell_type": "code",
      "metadata": {
        "id": "vdFLCMbEIhqw"
      },
      "source": [
        "from typing import List, Iterable\n",
        "\n",
        "def get_ngrams(sequence: Iterable, ngram_size: int) -> List[List]:\n",
        "    \"\"\"\n",
        "    Form a list of ngrams from a sequence\n",
        "    :param sequence: initial sequence from which to draw ngrams\n",
        "    :param ngram_size: level of ngram \n",
        "    :return: list of ngrams of a given size from sequence\n",
        "    \"\"\"\n",
        "    return [sequence[index:index + ngram_size] \n",
        "            for index in range(len(sequence))]\n",
        "\n",
        "def match_indices(sequence: Iterable[List], pattern: List) -> List[int]:\n",
        "    \"\"\"\n",
        "    Find indices of the first elements of a matching pattern occurences\n",
        "    :param sequence: initial sequence \n",
        "    :param pattern: pattern to match\n",
        "    :return: list of indices that denote the first \n",
        "    element of a matching subsequence\n",
        "    \"\"\"\n",
        "    return [index for index in range(len(sequence))\n",
        "            if sequence[index] == pattern]\n",
        "            "
      ],
      "execution_count": null,
      "outputs": []
    },
    {
      "cell_type": "markdown",
      "metadata": {
        "id": "4mIeypyEJqe8"
      },
      "source": [
        "Собственно функция"
      ]
    },
    {
      "cell_type": "code",
      "metadata": {
        "id": "t3guHwl04R0Z"
      },
      "source": [
        "def chunk(text: str, pattern: List, model: stanza.pipeline.core.Pipeline) -> List[str]:\n",
        "    \"\"\"\n",
        "    Extract from text POS-patterns\n",
        "    :param text: string in which to look for patterns\n",
        "    :param model: stanza nlp model\n",
        "    :param pattern: sequence of POS tags\n",
        "    :return: list of strings that follow the given pattern\n",
        "    \"\"\"\n",
        "    sentences = model_sz(text).sentences\n",
        "    pos_tags, words = [], []\n",
        "    for sentence in sentences:\n",
        "        for word in sentence.words:\n",
        "            words.append(word.text)\n",
        "            pos_tags.append(word.pos)\n",
        "    ngrams = get_ngrams(pos_tags, len(pattern))\n",
        "    init_indices = match_indices(ngrams, pattern)\n",
        "    return [' '.join(words[index:index + len(pattern)]) \n",
        "            for index in init_indices]\n",
        "            "
      ],
      "execution_count": 71,
      "outputs": []
    },
    {
      "cell_type": "markdown",
      "metadata": {
        "id": "YNV3vpFUJ7Qc"
      },
      "source": [
        "Тестируем"
      ]
    },
    {
      "cell_type": "code",
      "metadata": {
        "colab": {
          "base_uri": "https://localhost:8080/"
        },
        "id": "WmywWb5s7w8C",
        "outputId": "b97f0dd7-9ab2-454e-af67-ef5f52c18f5a"
      },
      "source": [
        "chunk('Я люблю огурцы. Он ест помидоры', ['VERB', 'NOUN'], model_sz)"
      ],
      "execution_count": 72,
      "outputs": [
        {
          "output_type": "execute_result",
          "data": {
            "text/plain": [
              "['люблю огурцы', 'ест помидоры']"
            ]
          },
          "metadata": {},
          "execution_count": 72
        }
      ]
    },
    {
      "cell_type": "code",
      "metadata": {
        "id": "PNrtBtk3LC1B"
      },
      "source": [
        "text = 'Многим очень нравится идея детерминированной вселенной. И в чем их упрекнуть? Все, что мы видим вокруг, по большей части можно либо интуитивно предсказать, либо точно описать математически, а все остальное – что ж, просто оно слишком сложное, чтобы его обсчитать, по крайней мере пока. Эйнштейн был убежден, что мнимая случайность таит под собой детерминистические законы, которые контролируют и позволяют предсказать все на свете. Если вы понимаете, с чего все начинается, законы физики точно скажут, чем все кончится. Кажется, детерминизм Вселенной встроен в формулы. Но если кажется, надо Богу молиться, и этот детерминизм – ложь и обман. На фундаментальном уровне Вселенная не столько сложна, сколько невероятно случайна. Радиоактивный распад, движение атомов, результаты физических экспериментов – все это определяется прихотями непредсказуемости. По сути своей Вселенная – страшный сон Эйнштейна. Может статься, случайность – это и ваш страшный сон. Люди плохо приспособлены к тому, чтобы мыслить статистически. Если шансы очевидны или речь идет о жизни и смерти, мозг подсказывает решение. «Не дергай за хвост этого тираннозавра [42] , – говорит, к примеру, мозг. – Многие пробовали, и ничем хорошим это не кончилось, так что все шансы за то, что и для тебя это ничем хорошим не кончится». С другой стороны, поезжайте в Лас-Вегас и спросите там человека, который только что проиграл 10 ставок подряд, каковы шансы, что в следующий раз он выиграет. Либо он заявит, что уж тут-то ему непременно повезет и он сорвет банк, либо – что игра сегодня не заладилась. Неважно, оптимист он или пессимист, – в обоих случаях он ошибается. Шансы выиграть в следующий раз точно такие же, как и во все предыдущие: 50 на 50.'"
      ],
      "execution_count": 74,
      "outputs": []
    },
    {
      "cell_type": "code",
      "metadata": {
        "colab": {
          "base_uri": "https://localhost:8080/"
        },
        "id": "cpcxego6EQ4P",
        "outputId": "6a33ee0a-bee3-4755-b730-692b390684db"
      },
      "source": [
        "chunk(text, ['ADP', 'NOUN'], model_sz)"
      ],
      "execution_count": 75,
      "outputs": [
        {
          "output_type": "execute_result",
          "data": {
            "text/plain": [
              "['на свете', 'в формулы', 'По сути', 'о жизни', 'за хвост', 'к примеру']"
            ]
          },
          "metadata": {},
          "execution_count": 75
        }
      ]
    },
    {
      "cell_type": "code",
      "metadata": {
        "colab": {
          "base_uri": "https://localhost:8080/"
        },
        "id": "lwkawHAiLOA6",
        "outputId": "9de95c15-70ce-43b1-84a1-d01ae1b80145"
      },
      "source": [
        "chunk(text, ['ADP', 'ADJ', 'NOUN'], model_sz)"
      ],
      "execution_count": 76,
      "outputs": [
        {
          "output_type": "execute_result",
          "data": {
            "text/plain": [
              "['по большей части',\n",
              " 'по крайней мере',\n",
              " 'На фундаментальном уровне',\n",
              " 'С другой стороны',\n",
              " 'в следующий раз',\n",
              " 'в следующий раз']"
            ]
          },
          "metadata": {},
          "execution_count": 76
        }
      ]
    },
    {
      "cell_type": "markdown",
      "metadata": {
        "id": "7m6uV_1jLWJP"
      },
      "source": [
        "Вроде работает"
      ]
    },
    {
      "cell_type": "markdown",
      "metadata": {
        "id": "_ohZoqnLMyeH"
      },
      "source": [
        "Что касатется потенциально информативных паттернов, то это, на мой взгляд, в значительной мере зависит от задачи и от материала. \n",
        "\n",
        "Если мы говорим об отзывах, чья тональная окраска анализировалась в предыдущей домашке, то там представляются интересными следующие сочетания:\n",
        "\n",
        "* прилагательные + существительные: такие комбинации позволяют поймать не только эмоцию, но и ее объект, то есть то, на что она направлена\n",
        "\n",
        "* наречие + прилагательные + существительные: а вот такая комбинация может также уточнить степень проявления направленной на что-то эмоции\n",
        "\n",
        "* наречия + глагол / глагол + наречия: такой паттерн может содержать информацию о действии продукта, которым посвящены отзывы, поскольку скорее всего в них будет приведена характеристика того как он справляется со своей задачей"
      ]
    },
    {
      "cell_type": "markdown",
      "metadata": {
        "id": "WlFceF64P_hb"
      },
      "source": [
        "Что касается внедрения анализа частеречных паттернов, то, я думаю, имеет смысл сделать это на этапе препроцессинга, где формируется список токенов, с которым в дальнейшем мы работаем. Мне кажется, нграммы можно и нужно рассматривать как равноправные токены наряду со словами. \n",
        "\n",
        "Таким образом, выглядеть это будет примерно так. "
      ]
    },
    {
      "cell_type": "code",
      "metadata": {
        "id": "BI-Kvr6AOxpV"
      },
      "source": [
        "from module_with_global_config import MODEL\n",
        "\n",
        "def preprocess(text: str, patterns: List[List] = None):\n",
        "    clean = ''.join([i.lower() for i in text\n",
        "                     if i.isalpha() or i.isspace()]) \n",
        "    tokens = [token.lemma_ for token in nlp(clean) if not token.is_stop \n",
        "          and token.lemma_.isalpha()] \n",
        "    if patterns:\n",
        "        for pattern in pattenrs:\n",
        "            ngrams = chunk(text, pattern, model=MODEL)\n",
        "            tokens.extend(ngrams)\n",
        "    return tokens\n",
        "    \n",
        "def create_frequency_dict(tokens):\n",
        "    freqs = {}\n",
        "    for token in tokens:\n",
        "        if token not in freqs.keys():\n",
        "            freqs[token] = 0\n",
        "        freqs[token] += 1\n",
        "    return freqs"
      ],
      "execution_count": null,
      "outputs": []
    },
    {
      "cell_type": "markdown",
      "metadata": {
        "id": "TI8FFsJ1Q6nq"
      },
      "source": [
        "Ну а все остальное то же."
      ]
    },
    {
      "cell_type": "code",
      "metadata": {
        "id": "f2xwxnCoQ7k1"
      },
      "source": [
        ""
      ],
      "execution_count": null,
      "outputs": []
    }
  ]
}